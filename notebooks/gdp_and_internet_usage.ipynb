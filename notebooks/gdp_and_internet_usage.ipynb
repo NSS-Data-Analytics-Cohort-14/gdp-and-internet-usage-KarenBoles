{
 "cells": [
  {
   "cell_type": "markdown",
   "id": "804ac698-1c61-4830-975d-38d417013034",
   "metadata": {},
   "source": [
    "## This is a example of how you will be doing projects in python.\n",
    "### Use markdown cells -OR- comments in cells to place AT LEAST the question number you are working on. "
   ]
  },
  {
   "cell_type": "markdown",
   "id": "90123210-b670-4d62-bbda-010eeac5dba5",
   "metadata": {},
   "source": [
    "3.\tImport the required packages"
   ]
  },
  {
   "cell_type": "code",
   "execution_count": 3,
   "id": "297b1e92-5e76-4e59-8085-d1ac23ff1c4f",
   "metadata": {},
   "outputs": [],
   "source": [
    "import pandas as pd\n",
    "import numpy as np\n",
    "import matplotlib.pyplot as plt\n",
    "import seaborn as sns"
   ]
  },
  {
   "cell_type": "markdown",
   "id": "3f81942c-9dbe-43e8-90fa-ba3e6be8389a",
   "metadata": {},
   "source": [
    "4. Using the pandas `read_csv()` method, read the GDP dataset into your notebook as a DataFrame called `gdp_df`. Take a look at the first few and last few rows to familiarize yourself with what is contained in this dataset."
   ]
  },
  {
   "cell_type": "code",
   "execution_count": 5,
   "id": "9258fe6d-6afa-462f-8197-c484f97cf4c7",
   "metadata": {},
   "outputs": [],
   "source": [
    "gdp_df = pd.read_csv('../data/gdp_percapita.csv')"
   ]
  },
  {
   "cell_type": "code",
   "execution_count": 6,
   "id": "bfcb97b4-16fc-454e-9085-63701eae40fb",
   "metadata": {
    "scrolled": true
   },
   "outputs": [
    {
     "data": {
      "text/html": [
       "<div>\n",
       "<style scoped>\n",
       "    .dataframe tbody tr th:only-of-type {\n",
       "        vertical-align: middle;\n",
       "    }\n",
       "\n",
       "    .dataframe tbody tr th {\n",
       "        vertical-align: top;\n",
       "    }\n",
       "\n",
       "    .dataframe thead th {\n",
       "        text-align: right;\n",
       "    }\n",
       "</style>\n",
       "<table border=\"1\" class=\"dataframe\">\n",
       "  <thead>\n",
       "    <tr style=\"text-align: right;\">\n",
       "      <th></th>\n",
       "      <th>Country or Area</th>\n",
       "      <th>Year</th>\n",
       "      <th>Value</th>\n",
       "      <th>Value Footnotes</th>\n",
       "    </tr>\n",
       "  </thead>\n",
       "  <tbody>\n",
       "    <tr>\n",
       "      <th>0</th>\n",
       "      <td>Afghanistan</td>\n",
       "      <td>2023</td>\n",
       "      <td>1992.424394</td>\n",
       "      <td>NaN</td>\n",
       "    </tr>\n",
       "    <tr>\n",
       "      <th>1</th>\n",
       "      <td>Afghanistan</td>\n",
       "      <td>2022</td>\n",
       "      <td>1981.710168</td>\n",
       "      <td>NaN</td>\n",
       "    </tr>\n",
       "    <tr>\n",
       "      <th>2</th>\n",
       "      <td>Afghanistan</td>\n",
       "      <td>2021</td>\n",
       "      <td>2144.166570</td>\n",
       "      <td>NaN</td>\n",
       "    </tr>\n",
       "    <tr>\n",
       "      <th>3</th>\n",
       "      <td>Afghanistan</td>\n",
       "      <td>2020</td>\n",
       "      <td>2769.685745</td>\n",
       "      <td>NaN</td>\n",
       "    </tr>\n",
       "    <tr>\n",
       "      <th>4</th>\n",
       "      <td>Afghanistan</td>\n",
       "      <td>2019</td>\n",
       "      <td>2927.245144</td>\n",
       "      <td>NaN</td>\n",
       "    </tr>\n",
       "  </tbody>\n",
       "</table>\n",
       "</div>"
      ],
      "text/plain": [
       "  Country or Area  Year        Value  Value Footnotes\n",
       "0     Afghanistan  2023  1992.424394              NaN\n",
       "1     Afghanistan  2022  1981.710168              NaN\n",
       "2     Afghanistan  2021  2144.166570              NaN\n",
       "3     Afghanistan  2020  2769.685745              NaN\n",
       "4     Afghanistan  2019  2927.245144              NaN"
      ]
     },
     "execution_count": 6,
     "metadata": {},
     "output_type": "execute_result"
    }
   ],
   "source": [
    "gdp_df.head()"
   ]
  },
  {
   "cell_type": "code",
   "execution_count": 7,
   "id": "5a07e41c-c1ea-4c25-be97-c069df2207d8",
   "metadata": {},
   "outputs": [
    {
     "data": {
      "text/html": [
       "<div>\n",
       "<style scoped>\n",
       "    .dataframe tbody tr th:only-of-type {\n",
       "        vertical-align: middle;\n",
       "    }\n",
       "\n",
       "    .dataframe tbody tr th {\n",
       "        vertical-align: top;\n",
       "    }\n",
       "\n",
       "    .dataframe thead th {\n",
       "        text-align: right;\n",
       "    }\n",
       "</style>\n",
       "<table border=\"1\" class=\"dataframe\">\n",
       "  <thead>\n",
       "    <tr style=\"text-align: right;\">\n",
       "      <th></th>\n",
       "      <th>Country or Area</th>\n",
       "      <th>Year</th>\n",
       "      <th>Value</th>\n",
       "      <th>Value Footnotes</th>\n",
       "    </tr>\n",
       "  </thead>\n",
       "  <tbody>\n",
       "    <tr>\n",
       "      <th>8214</th>\n",
       "      <td>Zimbabwe</td>\n",
       "      <td>1994</td>\n",
       "      <td>3965.730986</td>\n",
       "      <td>NaN</td>\n",
       "    </tr>\n",
       "    <tr>\n",
       "      <th>8215</th>\n",
       "      <td>Zimbabwe</td>\n",
       "      <td>1993</td>\n",
       "      <td>3634.750494</td>\n",
       "      <td>NaN</td>\n",
       "    </tr>\n",
       "    <tr>\n",
       "      <th>8216</th>\n",
       "      <td>Zimbabwe</td>\n",
       "      <td>1992</td>\n",
       "      <td>3649.891947</td>\n",
       "      <td>NaN</td>\n",
       "    </tr>\n",
       "    <tr>\n",
       "      <th>8217</th>\n",
       "      <td>Zimbabwe</td>\n",
       "      <td>1991</td>\n",
       "      <td>4126.405247</td>\n",
       "      <td>NaN</td>\n",
       "    </tr>\n",
       "    <tr>\n",
       "      <th>8218</th>\n",
       "      <td>Zimbabwe</td>\n",
       "      <td>1990</td>\n",
       "      <td>4013.299059</td>\n",
       "      <td>NaN</td>\n",
       "    </tr>\n",
       "  </tbody>\n",
       "</table>\n",
       "</div>"
      ],
      "text/plain": [
       "     Country or Area  Year        Value  Value Footnotes\n",
       "8214        Zimbabwe  1994  3965.730986              NaN\n",
       "8215        Zimbabwe  1993  3634.750494              NaN\n",
       "8216        Zimbabwe  1992  3649.891947              NaN\n",
       "8217        Zimbabwe  1991  4126.405247              NaN\n",
       "8218        Zimbabwe  1990  4013.299059              NaN"
      ]
     },
     "execution_count": 7,
     "metadata": {},
     "output_type": "execute_result"
    }
   ],
   "source": [
    "gdp_df.tail()"
   ]
  },
  {
   "cell_type": "markdown",
   "id": "728cd96e-d530-4ddc-a298-b1218d1cdc93",
   "metadata": {},
   "source": [
    "5. How many rows and columns are in `gdp_df`? What are the data types of each column?\n",
    "   There are 8219 rows and 4 columns"
   ]
  },
  {
   "cell_type": "code",
   "execution_count": 9,
   "id": "f14fe0c6-bc1a-4f2b-a736-ffacdfffbe05",
   "metadata": {},
   "outputs": [
    {
     "name": "stdout",
     "output_type": "stream",
     "text": [
      "(8219, 4)\n"
     ]
    }
   ],
   "source": [
    "print(gdp_df.shape)"
   ]
  },
  {
   "cell_type": "markdown",
   "id": "6cc07c62-1a58-4460-affa-0635d5c2190e",
   "metadata": {},
   "source": [
    "6. Drop the `Value Footnotes` column and rename the remaining three to 'Country', 'Year', and 'GDP_Per_Capita'."
   ]
  },
  {
   "cell_type": "code",
   "execution_count": 11,
   "id": "92534803-32f6-44b0-a308-51aba463cdeb",
   "metadata": {},
   "outputs": [],
   "source": [
    "del gdp_df['Value Footnotes']\n"
   ]
  },
  {
   "cell_type": "code",
   "execution_count": 12,
   "id": "85102ca4-844f-409d-ad57-0525e7989254",
   "metadata": {},
   "outputs": [],
   "source": [
    "gdp_df_clean=gdp_df.rename(columns={'Country or Area':'Country','Year':'Year','Value':'GDP_Per_Capita'})"
   ]
  },
  {
   "cell_type": "code",
   "execution_count": 13,
   "id": "bc5cc32d-fbdf-4857-8a33-0802b6d1a64a",
   "metadata": {},
   "outputs": [
    {
     "data": {
      "text/html": [
       "<div>\n",
       "<style scoped>\n",
       "    .dataframe tbody tr th:only-of-type {\n",
       "        vertical-align: middle;\n",
       "    }\n",
       "\n",
       "    .dataframe tbody tr th {\n",
       "        vertical-align: top;\n",
       "    }\n",
       "\n",
       "    .dataframe thead th {\n",
       "        text-align: right;\n",
       "    }\n",
       "</style>\n",
       "<table border=\"1\" class=\"dataframe\">\n",
       "  <thead>\n",
       "    <tr style=\"text-align: right;\">\n",
       "      <th></th>\n",
       "      <th>Country</th>\n",
       "      <th>Year</th>\n",
       "      <th>GDP_Per_Capita</th>\n",
       "    </tr>\n",
       "  </thead>\n",
       "  <tbody>\n",
       "    <tr>\n",
       "      <th>0</th>\n",
       "      <td>Afghanistan</td>\n",
       "      <td>2023</td>\n",
       "      <td>1992.424394</td>\n",
       "    </tr>\n",
       "    <tr>\n",
       "      <th>1</th>\n",
       "      <td>Afghanistan</td>\n",
       "      <td>2022</td>\n",
       "      <td>1981.710168</td>\n",
       "    </tr>\n",
       "    <tr>\n",
       "      <th>2</th>\n",
       "      <td>Afghanistan</td>\n",
       "      <td>2021</td>\n",
       "      <td>2144.166570</td>\n",
       "    </tr>\n",
       "    <tr>\n",
       "      <th>3</th>\n",
       "      <td>Afghanistan</td>\n",
       "      <td>2020</td>\n",
       "      <td>2769.685745</td>\n",
       "    </tr>\n",
       "    <tr>\n",
       "      <th>4</th>\n",
       "      <td>Afghanistan</td>\n",
       "      <td>2019</td>\n",
       "      <td>2927.245144</td>\n",
       "    </tr>\n",
       "  </tbody>\n",
       "</table>\n",
       "</div>"
      ],
      "text/plain": [
       "       Country  Year  GDP_Per_Capita\n",
       "0  Afghanistan  2023     1992.424394\n",
       "1  Afghanistan  2022     1981.710168\n",
       "2  Afghanistan  2021     2144.166570\n",
       "3  Afghanistan  2020     2769.685745\n",
       "4  Afghanistan  2019     2927.245144"
      ]
     },
     "execution_count": 13,
     "metadata": {},
     "output_type": "execute_result"
    }
   ],
   "source": [
    "gdp_df_clean.head()\n"
   ]
  },
  {
   "cell_type": "markdown",
   "id": "afff40f0-2605-45b0-ace8-f775779e0c05",
   "metadata": {},
   "source": [
    "7. How many countries have data for all years? Which countries are missing many years of data? Look at the number of observations per year. What do you notice? "
   ]
  },
  {
   "cell_type": "code",
   "execution_count": 15,
   "id": "63b7b9af-933c-4081-8016-624060145b5a",
   "metadata": {},
   "outputs": [
    {
     "name": "stdout",
     "output_type": "stream",
     "text": [
      "Country or Area     247\n",
      "Year                 34\n",
      "Value              8174\n",
      "dtype: int64\n"
     ]
    }
   ],
   "source": [
    "num_yrs=gdp_df.nunique(axis=0)\n",
    "print(num_yrs)"
   ]
  },
  {
   "cell_type": "markdown",
   "id": "5015bbe4-ef74-4637-aadf-acc2d5d70a2b",
   "metadata": {},
   "source": [
    "8. In this question, you're going to create some plots to show the distribution of GDP per capita for the year 2020. Go to the Python Graph Gallery (https://www.python-graph-gallery.com/) and look at the different types of plots under the Distribution section. Create a histogram, a density plot, a boxplot, and a violin plot. What do you notice when you look at these plots? How do the plots compare and what information can you get out of one type that you can't necessarily get out of the others?\n"
   ]
  },
  {
   "cell_type": "code",
   "execution_count": 17,
   "id": "e595f846-ead2-4790-94ae-e615636bddaa",
   "metadata": {},
   "outputs": [
    {
     "data": {
      "image/png": "[encoded data removed]",
      "text/plain": [
       "<Figure size 640x480 with 1 Axes>"
      ]
     },
     "metadata": {},
     "output_type": "display_data"
    }
   ],
   "source": [
    "gdp_df_clean_2020=gdp_df_clean.query('Year==2020')\n",
    "plt.hist(gdp_df_clean_2020['GDP_Per_Capita'])\n",
    "plt.show()"
   ]
  },
  {
   "cell_type": "code",
   "execution_count": 18,
   "id": "974eda40-d1ee-459c-901d-1267da92d9b3",
   "metadata": {
    "scrolled": true
   },
   "outputs": [
    {
     "data": {
      "text/plain": [
       "<Axes: xlabel='GDP_Per_Capita', ylabel='Density'>"
      ]
     },
     "execution_count": 18,
     "metadata": {},
     "output_type": "execute_result"
    },
    {
     "data": {
      "image/png": "[encoded data removed]",
      "text/plain": [
       "<Figure size 640x480 with 1 Axes>"
      ]
     },
     "metadata": {},
     "output_type": "display_data"
    }
   ],
   "source": [
    "sns.kdeplot(gdp_df_clean_2020['GDP_Per_Capita'])"
   ]
  },
  {
   "cell_type": "code",
   "execution_count": 19,
   "id": "8c23f378-5e8d-445a-a262-1fb671d19169",
   "metadata": {},
   "outputs": [
    {
     "data": {
      "text/plain": [
       "<Axes: xlabel='Year', ylabel='GDP_Per_Capita'>"
      ]
     },
     "execution_count": 19,
     "metadata": {},
     "output_type": "execute_result"
    },
    {
     "data": {
      "image/png": "[encoded data removed]",
      "text/plain": [
       "<Figure size 640x480 with 1 Axes>"
      ]
     },
     "metadata": {},
     "output_type": "display_data"
    }
   ],
   "source": [
    "sns.boxplot(x=gdp_df_clean_2020['Year'],y=gdp_df_clean_2020['GDP_Per_Capita'])"
   ]
  },
  {
   "cell_type": "code",
   "execution_count": 20,
   "id": "04b4b997-908d-4f1f-bf66-c6364e89b2be",
   "metadata": {},
   "outputs": [
    {
     "data": {
      "text/plain": [
       "<Axes: xlabel='Year', ylabel='GDP_Per_Capita'>"
      ]
     },
     "execution_count": 20,
     "metadata": {},
     "output_type": "execute_result"
    },
    {
     "data": {
      "image/png": "[encoded data removed]",
      "text/plain": [
       "<Figure size 640x480 with 1 Axes>"
      ]
     },
     "metadata": {},
     "output_type": "display_data"
    }
   ],
   "source": [
    "sns.violinplot(x=gdp_df_clean_2020['Year'],y=gdp_df_clean_2020['GDP_Per_Capita'])"
   ]
  },
  {
   "cell_type": "markdown",
   "id": "da3164ba-61c9-49b4-b916-dd5ea010472d",
   "metadata": {},
   "source": [
    "All of the plots demonstrate that the gdp data is skewed heavily toward the lower end of the gdp scale.  The box plot shows the discrete outliers (there appears to be seven).  The density plot is the best to use when considering percentages because the area of the entire plot is 1.  The violin plot illustrates how heavily the data skews toward the lower values.  The histogram puts the data into countable buckets, which are easy to interpret.  "
   ]
  },
  {
   "cell_type": "markdown",
   "id": "51e65ad0-b87f-4133-92eb-45b8cf03b03f",
   "metadata": {},
   "source": [
    "9. What was the median GDP per capita value in 2020?"
   ]
  },
  {
   "cell_type": "code",
   "execution_count": 23,
   "id": "0827ccee-3c17-44c4-ac01-fdad6ad2ccdb",
   "metadata": {},
   "outputs": [
    {
     "name": "stdout",
     "output_type": "stream",
     "text": [
      "15309.23598817024\n"
     ]
    }
   ],
   "source": [
    "median_gdp_per_capita_2020=gdp_df_clean_2020['GDP_Per_Capita'].median()\n",
    "print(median_gdp_per_capita_2020)"
   ]
  },
  {
   "cell_type": "markdown",
   "id": "44520c2b-6fff-4bca-96f4-8d8ce36a1fdd",
   "metadata": {},
   "source": [
    "10. For this question, you're going to create some visualizations to compare GDP per capita values for the years 1990, 2000, 2010, and 2020. Start by subsetting your data to just these 4 years into a new DataFrame named gdp_decades. Using this, create the following 4 plots:\n",
    "\t* A boxplot\n",
    "\t* A barplot (check out the Barplot with Seaborn section: https://www.python-graph-gallery.com/barplot/#Seaborn)\n",
    "\t* A scatterplot\n",
    "\t* A scatterplot with a trend line overlaid (see this regplot example: https://www.python-graph-gallery.com/42-custom-linear-regression-fit-seaborn)  \n",
    "Comment on what you observe has happened to GDP values over time and the relative strengths and weaknesses of each type of plot.\n"
   ]
  },
  {
   "cell_type": "code",
   "execution_count": 25,
   "id": "0e5726ab-f2f8-44c1-84a8-43e6887cf065",
   "metadata": {},
   "outputs": [
    {
     "data": {
      "text/html": [
       "<div>\n",
       "<style scoped>\n",
       "    .dataframe tbody tr th:only-of-type {\n",
       "        vertical-align: middle;\n",
       "    }\n",
       "\n",
       "    .dataframe tbody tr th {\n",
       "        vertical-align: top;\n",
       "    }\n",
       "\n",
       "    .dataframe thead th {\n",
       "        text-align: right;\n",
       "    }\n",
       "</style>\n",
       "<table border=\"1\" class=\"dataframe\">\n",
       "  <thead>\n",
       "    <tr style=\"text-align: right;\">\n",
       "      <th></th>\n",
       "      <th>Country</th>\n",
       "      <th>Year</th>\n",
       "      <th>GDP_Per_Capita</th>\n",
       "    </tr>\n",
       "  </thead>\n",
       "  <tbody>\n",
       "    <tr>\n",
       "      <th>3</th>\n",
       "      <td>Afghanistan</td>\n",
       "      <td>2020</td>\n",
       "      <td>2769.685745</td>\n",
       "    </tr>\n",
       "    <tr>\n",
       "      <th>13</th>\n",
       "      <td>Afghanistan</td>\n",
       "      <td>2010</td>\n",
       "      <td>2848.586061</td>\n",
       "    </tr>\n",
       "    <tr>\n",
       "      <th>23</th>\n",
       "      <td>Afghanistan</td>\n",
       "      <td>2000</td>\n",
       "      <td>1617.826475</td>\n",
       "    </tr>\n",
       "    <tr>\n",
       "      <th>27</th>\n",
       "      <td>Africa Eastern and Southern</td>\n",
       "      <td>2020</td>\n",
       "      <td>3861.111238</td>\n",
       "    </tr>\n",
       "    <tr>\n",
       "      <th>37</th>\n",
       "      <td>Africa Eastern and Southern</td>\n",
       "      <td>2010</td>\n",
       "      <td>3863.836012</td>\n",
       "    </tr>\n",
       "    <tr>\n",
       "      <th>47</th>\n",
       "      <td>Africa Eastern and Southern</td>\n",
       "      <td>2000</td>\n",
       "      <td>3176.568655</td>\n",
       "    </tr>\n",
       "    <tr>\n",
       "      <th>57</th>\n",
       "      <td>Africa Eastern and Southern</td>\n",
       "      <td>1990</td>\n",
       "      <td>3386.854480</td>\n",
       "    </tr>\n",
       "    <tr>\n",
       "      <th>61</th>\n",
       "      <td>Africa Western and Central</td>\n",
       "      <td>2020</td>\n",
       "      <td>4622.731427</td>\n",
       "    </tr>\n",
       "    <tr>\n",
       "      <th>71</th>\n",
       "      <td>Africa Western and Central</td>\n",
       "      <td>2010</td>\n",
       "      <td>4343.405839</td>\n",
       "    </tr>\n",
       "    <tr>\n",
       "      <th>81</th>\n",
       "      <td>Africa Western and Central</td>\n",
       "      <td>2000</td>\n",
       "      <td>3139.324872</td>\n",
       "    </tr>\n",
       "  </tbody>\n",
       "</table>\n",
       "</div>"
      ],
      "text/plain": [
       "                        Country  Year  GDP_Per_Capita\n",
       "3                   Afghanistan  2020     2769.685745\n",
       "13                  Afghanistan  2010     2848.586061\n",
       "23                  Afghanistan  2000     1617.826475\n",
       "27  Africa Eastern and Southern  2020     3861.111238\n",
       "37  Africa Eastern and Southern  2010     3863.836012\n",
       "47  Africa Eastern and Southern  2000     3176.568655\n",
       "57  Africa Eastern and Southern  1990     3386.854480\n",
       "61   Africa Western and Central  2020     4622.731427\n",
       "71   Africa Western and Central  2010     4343.405839\n",
       "81   Africa Western and Central  2000     3139.324872"
      ]
     },
     "execution_count": 25,
     "metadata": {},
     "output_type": "execute_result"
    }
   ],
   "source": [
    "decades=[1990,2000,2010,2020]\n",
    "gdp_decades=gdp_df_clean[gdp_df_clean['Year'].isin(decades)]\n",
    "gdp_decades.head(10)\n"
   ]
  },
  {
   "cell_type": "code",
   "execution_count": 26,
   "id": "1b735a55-6972-427c-8505-b779a3430b33",
   "metadata": {},
   "outputs": [
    {
     "data": {
      "text/plain": [
       "<Axes: xlabel='Year', ylabel='GDP_Per_Capita'>"
      ]
     },
     "execution_count": 26,
     "metadata": {},
     "output_type": "execute_result"
    },
    {
     "data": {
      "image/png": "[encoded data removed]",
      "text/plain": [
       "<Figure size 640x480 with 1 Axes>"
      ]
     },
     "metadata": {},
     "output_type": "display_data"
    }
   ],
   "source": [
    "sns.boxplot(x=gdp_decades['Year'],y=gdp_decades['GDP_Per_Capita'])"
   ]
  },
  {
   "cell_type": "code",
   "execution_count": 27,
   "id": "29e52d68-d1cc-4503-a512-190e4cdd5dfc",
   "metadata": {},
   "outputs": [
    {
     "data": {
      "text/plain": [
       "<Axes: xlabel='Year', ylabel='GDP_Per_Capita'>"
      ]
     },
     "execution_count": 27,
     "metadata": {},
     "output_type": "execute_result"
    },
    {
     "data": {
      "image/png": "[encoded data removed]",
      "text/plain": [
       "<Figure size 640x480 with 1 Axes>"
      ]
     },
     "metadata": {},
     "output_type": "display_data"
    }
   ],
   "source": [
    "sns.barplot(x=gdp_decades['Year'],y=gdp_decades['GDP_Per_Capita'])"
   ]
  },
  {
   "cell_type": "code",
   "execution_count": 28,
   "id": "6ebd8a9f-73e0-4611-84f0-bf6980e670a1",
   "metadata": {},
   "outputs": [
    {
     "data": {
      "text/plain": [
       "<Axes: xlabel='Year', ylabel='GDP_Per_Capita'>"
      ]
     },
     "execution_count": 28,
     "metadata": {},
     "output_type": "execute_result"
    },
    {
     "data": {
      "image/png": "[encoded data removed]",
      "text/plain": [
       "<Figure size 640x480 with 1 Axes>"
      ]
     },
     "metadata": {},
     "output_type": "display_data"
    }
   ],
   "source": [
    "sns.scatterplot(x=gdp_decades['Year'],y=gdp_decades['GDP_Per_Capita'])"
   ]
  },
  {
   "cell_type": "code",
   "execution_count": 29,
   "id": "b39adb0f-e839-4872-94b8-01d3c48d2461",
   "metadata": {},
   "outputs": [
    {
     "data": {
      "text/plain": [
       "<Axes: xlabel='Year', ylabel='GDP_Per_Capita'>"
      ]
     },
     "execution_count": 29,
     "metadata": {},
     "output_type": "execute_result"
    },
    {
     "data": {
      "image/png": "[encoded data removed]",
      "text/plain": [
       "<Figure size 640x480 with 1 Axes>"
      ]
     },
     "metadata": {},
     "output_type": "display_data"
    }
   ],
   "source": [
    "sns.regplot(x=gdp_decades['Year'],y=gdp_decades['GDP_Per_Capita'],line_kws={'color':'purple','linewidth':1.5})"
   ]
  },
  {
   "cell_type": "markdown",
   "id": "20509f97-cdb7-4a8c-985c-a51eb09c33f9",
   "metadata": {},
   "source": [
    "Box and whisker plot - This plot shows that the outliers all lie at the upper end of the data. It also makes the number of outliers the clearest of the four graph types.\n",
    "\n",
    "Bar graph with error bars - You can easily see the increasing trend of gdp per capita over the decades along with the relative change in the gdp values.\n",
    "\n",
    "Scatterplot - This plot shows the concentration of data points at the lower end of the gdp scale.  However, the trendline needs to be added in order to determine that the gdp increases over time.\n"
   ]
  },
  {
   "cell_type": "code",
   "execution_count": 31,
   "id": "c200df83-eb01-4959-a410-53cbfbac8836",
   "metadata": {},
   "outputs": [
    {
     "name": "stdout",
     "output_type": "stream",
     "text": [
      "<class 'pandas.core.frame.DataFrame'>\n",
      "RangeIndex: 8219 entries, 0 to 8218\n",
      "Data columns (total 3 columns):\n",
      " #   Column          Non-Null Count  Dtype  \n",
      "---  ------          --------------  -----  \n",
      " 0   Country         8219 non-null   object \n",
      " 1   Year            8219 non-null   int64  \n",
      " 2   GDP_Per_Capita  8219 non-null   float64\n",
      "dtypes: float64(1), int64(1), object(1)\n",
      "memory usage: 192.8+ KB\n",
      "None\n"
     ]
    },
    {
     "data": {
      "text/html": [
       "<div>\n",
       "<style scoped>\n",
       "    .dataframe tbody tr th:only-of-type {\n",
       "        vertical-align: middle;\n",
       "    }\n",
       "\n",
       "    .dataframe tbody tr th {\n",
       "        vertical-align: top;\n",
       "    }\n",
       "\n",
       "    .dataframe thead th {\n",
       "        text-align: right;\n",
       "    }\n",
       "</style>\n",
       "<table border=\"1\" class=\"dataframe\">\n",
       "  <thead>\n",
       "    <tr style=\"text-align: right;\">\n",
       "      <th></th>\n",
       "      <th>Country</th>\n",
       "      <th>Year</th>\n",
       "      <th>GDP_Per_Capita</th>\n",
       "    </tr>\n",
       "  </thead>\n",
       "  <tbody>\n",
       "    <tr>\n",
       "      <th>7827</th>\n",
       "      <td>United Arab Emirates</td>\n",
       "      <td>1990</td>\n",
       "      <td>108057.042464</td>\n",
       "    </tr>\n",
       "    <tr>\n",
       "      <th>974</th>\n",
       "      <td>Brunei</td>\n",
       "      <td>1990</td>\n",
       "      <td>118163.683198</td>\n",
       "    </tr>\n",
       "    <tr>\n",
       "      <th>7826</th>\n",
       "      <td>United Arab Emirates</td>\n",
       "      <td>1991</td>\n",
       "      <td>103098.537132</td>\n",
       "    </tr>\n",
       "    <tr>\n",
       "      <th>973</th>\n",
       "      <td>Brunei</td>\n",
       "      <td>1991</td>\n",
       "      <td>118220.683619</td>\n",
       "    </tr>\n",
       "    <tr>\n",
       "      <th>7825</th>\n",
       "      <td>United Arab Emirates</td>\n",
       "      <td>1992</td>\n",
       "      <td>101100.487512</td>\n",
       "    </tr>\n",
       "    <tr>\n",
       "      <th>...</th>\n",
       "      <td>...</td>\n",
       "      <td>...</td>\n",
       "      <td>...</td>\n",
       "    </tr>\n",
       "    <tr>\n",
       "      <th>6116</th>\n",
       "      <td>Qatar</td>\n",
       "      <td>2023</td>\n",
       "      <td>116159.142559</td>\n",
       "    </tr>\n",
       "    <tr>\n",
       "      <th>4457</th>\n",
       "      <td>Macao SAR, China</td>\n",
       "      <td>2023</td>\n",
       "      <td>104961.643485</td>\n",
       "    </tr>\n",
       "    <tr>\n",
       "      <th>6511</th>\n",
       "      <td>Singapore</td>\n",
       "      <td>2023</td>\n",
       "      <td>127543.554752</td>\n",
       "    </tr>\n",
       "    <tr>\n",
       "      <th>4423</th>\n",
       "      <td>Luxembourg</td>\n",
       "      <td>2023</td>\n",
       "      <td>130373.477942</td>\n",
       "    </tr>\n",
       "    <tr>\n",
       "      <th>3490</th>\n",
       "      <td>Ireland</td>\n",
       "      <td>2023</td>\n",
       "      <td>115401.125283</td>\n",
       "    </tr>\n",
       "  </tbody>\n",
       "</table>\n",
       "<p>106 rows × 3 columns</p>\n",
       "</div>"
      ],
      "text/plain": [
       "                   Country  Year  GDP_Per_Capita\n",
       "7827  United Arab Emirates  1990   108057.042464\n",
       "974                 Brunei  1990   118163.683198\n",
       "7826  United Arab Emirates  1991   103098.537132\n",
       "973                 Brunei  1991   118220.683619\n",
       "7825  United Arab Emirates  1992   101100.487512\n",
       "...                    ...   ...             ...\n",
       "6116                 Qatar  2023   116159.142559\n",
       "4457      Macao SAR, China  2023   104961.643485\n",
       "6511             Singapore  2023   127543.554752\n",
       "4423            Luxembourg  2023   130373.477942\n",
       "3490               Ireland  2023   115401.125283\n",
       "\n",
       "[106 rows x 3 columns]"
      ]
     },
     "execution_count": 31,
     "metadata": {},
     "output_type": "execute_result"
    }
   ],
   "source": [
    "print(gdp_df_clean.info())\n",
    "\n",
    "gdp_df_over100K=gdp_df_clean.query('GDP_Per_Capita>100000')\n",
    "gdp_df_over100K.sort_values('Year')\n"
   ]
  },
  {
   "cell_type": "markdown",
   "id": "9aeee442-5f26-4786-a3e5-75a04f69fe69",
   "metadata": {},
   "source": [
    "Both the United Arab Emirates and Brunei had a per capita GDP over $100K in the year 1990.  These were the earliest cases."
   ]
  },
  {
   "cell_type": "markdown",
   "id": "1d76c59e-467e-43d9-a8a3-98d5154b2707",
   "metadata": {},
   "source": [
    "12. Which country had the highest GDP per capita in 2020? Create a plot showing how this country's GDP per capita has changed over the timespan of the dataset."
   ]
  },
  {
   "cell_type": "code",
   "execution_count": 34,
   "id": "9164b69a-3a10-45c8-a100-2d8da68efd19",
   "metadata": {},
   "outputs": [
    {
     "data": {
      "text/html": [
       "<div>\n",
       "<style scoped>\n",
       "    .dataframe tbody tr th:only-of-type {\n",
       "        vertical-align: middle;\n",
       "    }\n",
       "\n",
       "    .dataframe tbody tr th {\n",
       "        vertical-align: top;\n",
       "    }\n",
       "\n",
       "    .dataframe thead th {\n",
       "        text-align: right;\n",
       "    }\n",
       "</style>\n",
       "<table border=\"1\" class=\"dataframe\">\n",
       "  <thead>\n",
       "    <tr style=\"text-align: right;\">\n",
       "      <th></th>\n",
       "      <th>Country</th>\n",
       "      <th>Year</th>\n",
       "      <th>GDP_Per_Capita</th>\n",
       "    </tr>\n",
       "  </thead>\n",
       "  <tbody>\n",
       "    <tr>\n",
       "      <th>4426</th>\n",
       "      <td>Luxembourg</td>\n",
       "      <td>2020</td>\n",
       "      <td>128256.560341</td>\n",
       "    </tr>\n",
       "    <tr>\n",
       "      <th>6514</th>\n",
       "      <td>Singapore</td>\n",
       "      <td>2020</td>\n",
       "      <td>115304.149459</td>\n",
       "    </tr>\n",
       "    <tr>\n",
       "      <th>6119</th>\n",
       "      <td>Qatar</td>\n",
       "      <td>2020</td>\n",
       "      <td>103061.913414</td>\n",
       "    </tr>\n",
       "    <tr>\n",
       "      <th>3493</th>\n",
       "      <td>Ireland</td>\n",
       "      <td>2020</td>\n",
       "      <td>102989.787335</td>\n",
       "    </tr>\n",
       "    <tr>\n",
       "      <th>741</th>\n",
       "      <td>Bermuda</td>\n",
       "      <td>2020</td>\n",
       "      <td>87894.401174</td>\n",
       "    </tr>\n",
       "    <tr>\n",
       "      <th>...</th>\n",
       "      <td>...</td>\n",
       "      <td>...</td>\n",
       "      <td>...</td>\n",
       "    </tr>\n",
       "    <tr>\n",
       "      <th>5133</th>\n",
       "      <td>Mozambique</td>\n",
       "      <td>2020</td>\n",
       "      <td>1466.124765</td>\n",
       "    </tr>\n",
       "    <tr>\n",
       "      <th>6699</th>\n",
       "      <td>Somalia</td>\n",
       "      <td>2020</td>\n",
       "      <td>1396.053436</td>\n",
       "    </tr>\n",
       "    <tr>\n",
       "      <th>1734</th>\n",
       "      <td>Dem. Rep. Congo</td>\n",
       "      <td>2020</td>\n",
       "      <td>1277.632863</td>\n",
       "    </tr>\n",
       "    <tr>\n",
       "      <th>1302</th>\n",
       "      <td>Central African Republic</td>\n",
       "      <td>2020</td>\n",
       "      <td>1136.570530</td>\n",
       "    </tr>\n",
       "    <tr>\n",
       "      <th>1046</th>\n",
       "      <td>Burundi</td>\n",
       "      <td>2020</td>\n",
       "      <td>833.920257</td>\n",
       "    </tr>\n",
       "  </tbody>\n",
       "</table>\n",
       "<p>247 rows × 3 columns</p>\n",
       "</div>"
      ],
      "text/plain": [
       "                       Country  Year  GDP_Per_Capita\n",
       "4426                Luxembourg  2020   128256.560341\n",
       "6514                 Singapore  2020   115304.149459\n",
       "6119                     Qatar  2020   103061.913414\n",
       "3493                   Ireland  2020   102989.787335\n",
       "741                    Bermuda  2020    87894.401174\n",
       "...                        ...   ...             ...\n",
       "5133                Mozambique  2020     1466.124765\n",
       "6699                   Somalia  2020     1396.053436\n",
       "1734           Dem. Rep. Congo  2020     1277.632863\n",
       "1302  Central African Republic  2020     1136.570530\n",
       "1046                   Burundi  2020      833.920257\n",
       "\n",
       "[247 rows x 3 columns]"
      ]
     },
     "execution_count": 34,
     "metadata": {},
     "output_type": "execute_result"
    }
   ],
   "source": [
    "gdp_df_clean_2020.sort_values('GDP_Per_Capita',ascending=False)"
   ]
  },
  {
   "cell_type": "markdown",
   "id": "0561685f-6e7a-4b7b-aebd-0f3703c376f3",
   "metadata": {},
   "source": [
    "Luxembourg had the highest GDP per capita in 2020 with $128256 per person."
   ]
  },
  {
   "cell_type": "code",
   "execution_count": 36,
   "id": "226f06f6-52d7-4735-b1f0-6984018bdcc2",
   "metadata": {},
   "outputs": [
    {
     "data": {
      "text/plain": [
       "<Axes: xlabel='Year', ylabel='GDP_Per_Capita'>"
      ]
     },
     "execution_count": 36,
     "metadata": {},
     "output_type": "execute_result"
    },
    {
     "data": {
      "image/png": "[encoded data removed]",
      "text/plain": [
       "<Figure size 640x480 with 1 Axes>"
      ]
     },
     "metadata": {},
     "output_type": "display_data"
    }
   ],
   "source": [
    "luxembourg_gdp=gdp_df_clean.query(\"Country=='Luxembourg'\")\n",
    "sns.lineplot(x=luxembourg_gdp['Year'],y=luxembourg_gdp['GDP_Per_Capita'])"
   ]
  },
  {
   "cell_type": "markdown",
   "id": "5969996d-a106-4eac-9162-f03e8c5bee08",
   "metadata": {},
   "source": [
    "13. Which country had the lowest GDP per capita in 2020? Create a plot showing how this country's GDP per capita has changed over the timespan of the dataset. **Bonus question:** Is it true in general that coutries had a higher GDP per capita in 2020 than in 1990? Which countries had lower GDP per capita in 2020 than in 1990?"
   ]
  },
  {
   "cell_type": "code",
   "execution_count": 38,
   "id": "0f463195-fe5b-4edd-842a-8a1917f0979f",
   "metadata": {},
   "outputs": [
    {
     "data": {
      "text/html": [
       "<div>\n",
       "<style scoped>\n",
       "    .dataframe tbody tr th:only-of-type {\n",
       "        vertical-align: middle;\n",
       "    }\n",
       "\n",
       "    .dataframe tbody tr th {\n",
       "        vertical-align: top;\n",
       "    }\n",
       "\n",
       "    .dataframe thead th {\n",
       "        text-align: right;\n",
       "    }\n",
       "</style>\n",
       "<table border=\"1\" class=\"dataframe\">\n",
       "  <thead>\n",
       "    <tr style=\"text-align: right;\">\n",
       "      <th></th>\n",
       "      <th>Country</th>\n",
       "      <th>Year</th>\n",
       "      <th>GDP_Per_Capita</th>\n",
       "    </tr>\n",
       "  </thead>\n",
       "  <tbody>\n",
       "    <tr>\n",
       "      <th>1046</th>\n",
       "      <td>Burundi</td>\n",
       "      <td>2020</td>\n",
       "      <td>833.920257</td>\n",
       "    </tr>\n",
       "    <tr>\n",
       "      <th>1302</th>\n",
       "      <td>Central African Republic</td>\n",
       "      <td>2020</td>\n",
       "      <td>1136.570530</td>\n",
       "    </tr>\n",
       "    <tr>\n",
       "      <th>1734</th>\n",
       "      <td>Dem. Rep. Congo</td>\n",
       "      <td>2020</td>\n",
       "      <td>1277.632863</td>\n",
       "    </tr>\n",
       "    <tr>\n",
       "      <th>6699</th>\n",
       "      <td>Somalia</td>\n",
       "      <td>2020</td>\n",
       "      <td>1396.053436</td>\n",
       "    </tr>\n",
       "    <tr>\n",
       "      <th>5133</th>\n",
       "      <td>Mozambique</td>\n",
       "      <td>2020</td>\n",
       "      <td>1466.124765</td>\n",
       "    </tr>\n",
       "    <tr>\n",
       "      <th>...</th>\n",
       "      <td>...</td>\n",
       "      <td>...</td>\n",
       "      <td>...</td>\n",
       "    </tr>\n",
       "    <tr>\n",
       "      <th>741</th>\n",
       "      <td>Bermuda</td>\n",
       "      <td>2020</td>\n",
       "      <td>87894.401174</td>\n",
       "    </tr>\n",
       "    <tr>\n",
       "      <th>3493</th>\n",
       "      <td>Ireland</td>\n",
       "      <td>2020</td>\n",
       "      <td>102989.787335</td>\n",
       "    </tr>\n",
       "    <tr>\n",
       "      <th>6119</th>\n",
       "      <td>Qatar</td>\n",
       "      <td>2020</td>\n",
       "      <td>103061.913414</td>\n",
       "    </tr>\n",
       "    <tr>\n",
       "      <th>6514</th>\n",
       "      <td>Singapore</td>\n",
       "      <td>2020</td>\n",
       "      <td>115304.149459</td>\n",
       "    </tr>\n",
       "    <tr>\n",
       "      <th>4426</th>\n",
       "      <td>Luxembourg</td>\n",
       "      <td>2020</td>\n",
       "      <td>128256.560341</td>\n",
       "    </tr>\n",
       "  </tbody>\n",
       "</table>\n",
       "<p>247 rows × 3 columns</p>\n",
       "</div>"
      ],
      "text/plain": [
       "                       Country  Year  GDP_Per_Capita\n",
       "1046                   Burundi  2020      833.920257\n",
       "1302  Central African Republic  2020     1136.570530\n",
       "1734           Dem. Rep. Congo  2020     1277.632863\n",
       "6699                   Somalia  2020     1396.053436\n",
       "5133                Mozambique  2020     1466.124765\n",
       "...                        ...   ...             ...\n",
       "741                    Bermuda  2020    87894.401174\n",
       "3493                   Ireland  2020   102989.787335\n",
       "6119                     Qatar  2020   103061.913414\n",
       "6514                 Singapore  2020   115304.149459\n",
       "4426                Luxembourg  2020   128256.560341\n",
       "\n",
       "[247 rows x 3 columns]"
      ]
     },
     "execution_count": 38,
     "metadata": {},
     "output_type": "execute_result"
    }
   ],
   "source": [
    "gdp_df_clean_2020.sort_values('GDP_Per_Capita',ascending=True)"
   ]
  },
  {
   "cell_type": "code",
   "execution_count": 39,
   "id": "50a1778c-ce5d-4809-8993-5a99f602fcfd",
   "metadata": {},
   "outputs": [
    {
     "data": {
      "text/plain": [
       "<Axes: xlabel='Year', ylabel='GDP_Per_Capita'>"
      ]
     },
     "execution_count": 39,
     "metadata": {},
     "output_type": "execute_result"
    },
    {
     "data": {
      "image/png": "[encoded data removed]",
      "text/plain": [
       "<Figure size 640x480 with 1 Axes>"
      ]
     },
     "metadata": {},
     "output_type": "display_data"
    }
   ],
   "source": [
    "burundi_gdp=gdp_df_clean.query(\"Country=='Burundi'\")\n",
    "sns.lineplot(x=burundi_gdp['Year'],y=burundi_gdp['GDP_Per_Capita'])"
   ]
  },
  {
   "cell_type": "code",
   "execution_count": 40,
   "id": "31fa59ac-76a2-4a28-b9a6-bf4b8cef9599",
   "metadata": {},
   "outputs": [],
   "source": [
    "gdp_df_clean_1990=gdp_df_clean.query('Year==1990')\n",
    "gdp_df_clean_2000=gdp_df_clean.query('Year==2000')\n",
    "#num_country_greater_1990_gdp="
   ]
  },
  {
   "cell_type": "markdown",
   "id": "3f5f9b6c-0a29-41ec-99e8-c3c106284153",
   "metadata": {},
   "source": [
    "14. Read in the internet use dataset into a DataFrame named `internet_df`. You will likely get errors when doing this. Check the arguments for the read_csv function to find ones that can help correct the errors (https://pandas.pydata.org/docs/reference/api/pandas.read_csv.html) Once you are able to read it in, take per a look at the top and bottom few rows to make sure that it has been read in correctly. Also, check the datatypes of the columns.\n"
   ]
  },
  {
   "cell_type": "code",
   "execution_count": 42,
   "id": "0785690d-1136-4e36-9529-afebc62cf1f5",
   "metadata": {},
   "outputs": [],
   "source": [
    "internet_df = pd.read_csv('../data/internet_use.csv',nrows=6083)"
   ]
  },
  {
   "cell_type": "code",
   "execution_count": 43,
   "id": "f2a828cd-3c2f-4b00-ae06-0a5885c28dd9",
   "metadata": {},
   "outputs": [
    {
     "data": {
      "text/html": [
       "<div>\n",
       "<style scoped>\n",
       "    .dataframe tbody tr th:only-of-type {\n",
       "        vertical-align: middle;\n",
       "    }\n",
       "\n",
       "    .dataframe tbody tr th {\n",
       "        vertical-align: top;\n",
       "    }\n",
       "\n",
       "    .dataframe thead th {\n",
       "        text-align: right;\n",
       "    }\n",
       "</style>\n",
       "<table border=\"1\" class=\"dataframe\">\n",
       "  <thead>\n",
       "    <tr style=\"text-align: right;\">\n",
       "      <th></th>\n",
       "      <th>Country or Area</th>\n",
       "      <th>Year</th>\n",
       "      <th>Value</th>\n",
       "      <th>Value Footnotes</th>\n",
       "    </tr>\n",
       "  </thead>\n",
       "  <tbody>\n",
       "    <tr>\n",
       "      <th>6078</th>\n",
       "      <td>Zimbabwe</td>\n",
       "      <td>1997</td>\n",
       "      <td>0.033080</td>\n",
       "      <td>NaN</td>\n",
       "    </tr>\n",
       "    <tr>\n",
       "      <th>6079</th>\n",
       "      <td>Zimbabwe</td>\n",
       "      <td>1996</td>\n",
       "      <td>0.016790</td>\n",
       "      <td>NaN</td>\n",
       "    </tr>\n",
       "    <tr>\n",
       "      <th>6080</th>\n",
       "      <td>Zimbabwe</td>\n",
       "      <td>1995</td>\n",
       "      <td>0.007684</td>\n",
       "      <td>NaN</td>\n",
       "    </tr>\n",
       "    <tr>\n",
       "      <th>6081</th>\n",
       "      <td>Zimbabwe</td>\n",
       "      <td>1994</td>\n",
       "      <td>0.001739</td>\n",
       "      <td>NaN</td>\n",
       "    </tr>\n",
       "    <tr>\n",
       "      <th>6082</th>\n",
       "      <td>Zimbabwe</td>\n",
       "      <td>1990</td>\n",
       "      <td>0.000000</td>\n",
       "      <td>NaN</td>\n",
       "    </tr>\n",
       "  </tbody>\n",
       "</table>\n",
       "</div>"
      ],
      "text/plain": [
       "     Country or Area  Year     Value Value Footnotes\n",
       "6078        Zimbabwe  1997  0.033080             NaN\n",
       "6079        Zimbabwe  1996  0.016790             NaN\n",
       "6080        Zimbabwe  1995  0.007684             NaN\n",
       "6081        Zimbabwe  1994  0.001739             NaN\n",
       "6082        Zimbabwe  1990  0.000000             NaN"
      ]
     },
     "execution_count": 43,
     "metadata": {},
     "output_type": "execute_result"
    }
   ],
   "source": [
    "internet_df.head()\n",
    "internet_df.tail()"
   ]
  },
  {
   "cell_type": "code",
   "execution_count": 44,
   "id": "9bceee95-f3b8-44ed-9b56-1be9d95e05f0",
   "metadata": {},
   "outputs": [
    {
     "name": "stdout",
     "output_type": "stream",
     "text": [
      "<class 'pandas.core.frame.DataFrame'>\n",
      "RangeIndex: 6083 entries, 0 to 6082\n",
      "Data columns (total 4 columns):\n",
      " #   Column           Non-Null Count  Dtype  \n",
      "---  ------           --------------  -----  \n",
      " 0   Country or Area  6083 non-null   object \n",
      " 1   Year             6083 non-null   int64  \n",
      " 2   Value            6083 non-null   float64\n",
      " 3   Value Footnotes  2826 non-null   object \n",
      "dtypes: float64(1), int64(1), object(2)\n",
      "memory usage: 190.2+ KB\n"
     ]
    }
   ],
   "source": [
    "internet_df.info()"
   ]
  },
  {
   "cell_type": "code",
   "execution_count": 45,
   "id": "49629f8b-ff6f-42a0-bf15-49e0d5e88776",
   "metadata": {},
   "outputs": [],
   "source": [
    "del internet_df['Value Footnotes']\n",
    "internet_df_clean=internet_df.rename(columns={'Country or Area':'Country','Year':'Year','Value':'Internet_Users_Pct'})\n"
   ]
  },
  {
   "cell_type": "code",
   "execution_count": 46,
   "id": "0833eafe-11e5-4d8c-8db8-fabe1eca7aa8",
   "metadata": {},
   "outputs": [
    {
     "data": {
      "text/html": [
       "<div>\n",
       "<style scoped>\n",
       "    .dataframe tbody tr th:only-of-type {\n",
       "        vertical-align: middle;\n",
       "    }\n",
       "\n",
       "    .dataframe tbody tr th {\n",
       "        vertical-align: top;\n",
       "    }\n",
       "\n",
       "    .dataframe thead th {\n",
       "        text-align: right;\n",
       "    }\n",
       "</style>\n",
       "<table border=\"1\" class=\"dataframe\">\n",
       "  <thead>\n",
       "    <tr style=\"text-align: right;\">\n",
       "      <th></th>\n",
       "      <th>Country</th>\n",
       "      <th>Year</th>\n",
       "      <th>Internet_Users_Pct</th>\n",
       "    </tr>\n",
       "  </thead>\n",
       "  <tbody>\n",
       "    <tr>\n",
       "      <th>0</th>\n",
       "      <td>Afghanistan</td>\n",
       "      <td>2019</td>\n",
       "      <td>17.60</td>\n",
       "    </tr>\n",
       "    <tr>\n",
       "      <th>1</th>\n",
       "      <td>Afghanistan</td>\n",
       "      <td>2018</td>\n",
       "      <td>16.80</td>\n",
       "    </tr>\n",
       "    <tr>\n",
       "      <th>2</th>\n",
       "      <td>Afghanistan</td>\n",
       "      <td>2017</td>\n",
       "      <td>13.50</td>\n",
       "    </tr>\n",
       "    <tr>\n",
       "      <th>3</th>\n",
       "      <td>Afghanistan</td>\n",
       "      <td>2016</td>\n",
       "      <td>11.00</td>\n",
       "    </tr>\n",
       "    <tr>\n",
       "      <th>4</th>\n",
       "      <td>Afghanistan</td>\n",
       "      <td>2015</td>\n",
       "      <td>8.26</td>\n",
       "    </tr>\n",
       "  </tbody>\n",
       "</table>\n",
       "</div>"
      ],
      "text/plain": [
       "       Country  Year  Internet_Users_Pct\n",
       "0  Afghanistan  2019               17.60\n",
       "1  Afghanistan  2018               16.80\n",
       "2  Afghanistan  2017               13.50\n",
       "3  Afghanistan  2016               11.00\n",
       "4  Afghanistan  2015                8.26"
      ]
     },
     "execution_count": 46,
     "metadata": {},
     "output_type": "execute_result"
    }
   ],
   "source": [
    "internet_df_clean.head()"
   ]
  },
  {
   "cell_type": "code",
   "execution_count": 47,
   "id": "f63e7dfa-16f4-4a74-a7fd-ff6a54d9a875",
   "metadata": {},
   "outputs": [
    {
     "data": {
      "text/html": [
       "<div>\n",
       "<style scoped>\n",
       "    .dataframe tbody tr th:only-of-type {\n",
       "        vertical-align: middle;\n",
       "    }\n",
       "\n",
       "    .dataframe tbody tr th {\n",
       "        vertical-align: top;\n",
       "    }\n",
       "\n",
       "    .dataframe thead th {\n",
       "        text-align: right;\n",
       "    }\n",
       "</style>\n",
       "<table border=\"1\" class=\"dataframe\">\n",
       "  <thead>\n",
       "    <tr style=\"text-align: right;\">\n",
       "      <th></th>\n",
       "      <th>Country</th>\n",
       "      <th>Year</th>\n",
       "      <th>Internet_Users_Pct</th>\n",
       "    </tr>\n",
       "  </thead>\n",
       "  <tbody>\n",
       "    <tr>\n",
       "      <th>6078</th>\n",
       "      <td>Zimbabwe</td>\n",
       "      <td>1997</td>\n",
       "      <td>0.033080</td>\n",
       "    </tr>\n",
       "    <tr>\n",
       "      <th>6079</th>\n",
       "      <td>Zimbabwe</td>\n",
       "      <td>1996</td>\n",
       "      <td>0.016790</td>\n",
       "    </tr>\n",
       "    <tr>\n",
       "      <th>6080</th>\n",
       "      <td>Zimbabwe</td>\n",
       "      <td>1995</td>\n",
       "      <td>0.007684</td>\n",
       "    </tr>\n",
       "    <tr>\n",
       "      <th>6081</th>\n",
       "      <td>Zimbabwe</td>\n",
       "      <td>1994</td>\n",
       "      <td>0.001739</td>\n",
       "    </tr>\n",
       "    <tr>\n",
       "      <th>6082</th>\n",
       "      <td>Zimbabwe</td>\n",
       "      <td>1990</td>\n",
       "      <td>0.000000</td>\n",
       "    </tr>\n",
       "  </tbody>\n",
       "</table>\n",
       "</div>"
      ],
      "text/plain": [
       "       Country  Year  Internet_Users_Pct\n",
       "6078  Zimbabwe  1997            0.033080\n",
       "6079  Zimbabwe  1996            0.016790\n",
       "6080  Zimbabwe  1995            0.007684\n",
       "6081  Zimbabwe  1994            0.001739\n",
       "6082  Zimbabwe  1990            0.000000"
      ]
     },
     "execution_count": 47,
     "metadata": {},
     "output_type": "execute_result"
    }
   ],
   "source": [
    "internet_df_clean.tail()"
   ]
  },
  {
   "cell_type": "markdown",
   "id": "bc6ad826-7f4d-4f58-ab5d-b86108f99069",
   "metadata": {},
   "source": [
    "16. Look at the number of observations in this dataset per year. What do you notice?"
   ]
  },
  {
   "cell_type": "code",
   "execution_count": 50,
   "id": "252b2ba2-1821-4d1e-b604-0efa16862861",
   "metadata": {},
   "outputs": [],
   "source": [
    "internet_df_clean['Year']=internet_df_clean['Year'].astype(int)"
   ]
  },
  {
   "cell_type": "code",
   "execution_count": 52,
   "id": "7d277a05-2dbb-4e93-bf17-b5f11a7dff58",
   "metadata": {},
   "outputs": [
    {
     "name": "stdout",
     "output_type": "stream",
     "text": [
      "<class 'pandas.core.frame.DataFrame'>\n",
      "RangeIndex: 6083 entries, 0 to 6082\n",
      "Data columns (total 3 columns):\n",
      " #   Column              Non-Null Count  Dtype  \n",
      "---  ------              --------------  -----  \n",
      " 0   Country             6083 non-null   object \n",
      " 1   Year                6083 non-null   int32  \n",
      " 2   Internet_Users_Pct  6083 non-null   float64\n",
      "dtypes: float64(1), int32(1), object(1)\n",
      "memory usage: 118.9+ KB\n"
     ]
    }
   ],
   "source": [
    "internet_df_clean.info()"
   ]
  },
  {
   "cell_type": "code",
   "execution_count": 72,
   "id": "980f50f5-09fc-4221-a520-7ecf1aba8200",
   "metadata": {},
   "outputs": [],
   "source": [
    "internet_df_yr_count=internet_df_clean['Year'].value_counts(ascending=True)"
   ]
  },
  {
   "cell_type": "code",
   "execution_count": 74,
   "id": "09a7875d-5537-45bc-b6e3-78fa0609211d",
   "metadata": {},
   "outputs": [
    {
     "data": {
      "text/plain": [
       "Year\n",
       "2023    11\n",
       "1991    39\n",
       "1992    50\n",
       "1993    66\n",
       "1994    92\n",
       "Name: count, dtype: int64"
      ]
     },
     "execution_count": 74,
     "metadata": {},
     "output_type": "execute_result"
    }
   ],
   "source": [
    "internet_df_yr_count.head()"
   ]
  },
  {
   "cell_type": "markdown",
   "id": "859d8be7-a732-46ea-b350-69c2da1b21b3",
   "metadata": {},
   "source": [
    "The number of observations was relatively small in the early 1990s.  However, it appears that someone entered 0 for most if not all countries for the year 1990."
   ]
  },
  {
   "cell_type": "markdown",
   "id": "86b757cd-36c0-4673-b7ec-eb1861315b7a",
   "metadata": {},
   "source": [
    "17. What is the first year to have a non-zero internet users percentage value?"
   ]
  },
  {
   "cell_type": "code",
   "execution_count": 93,
   "id": "2eee9c7b-1bcc-4fab-a161-dcdcb5b84d9e",
   "metadata": {},
   "outputs": [],
   "source": [
    "internet_df_clean_nonzero=internet_df_clean.query('Internet_Users_Pct>0.0').sort_values('Year',ascending=True)"
   ]
  },
  {
   "cell_type": "code",
   "execution_count": 97,
   "id": "fd84310c-2c5c-49ba-be93-39a3c6e2459c",
   "metadata": {},
   "outputs": [
    {
     "data": {
      "text/html": [
       "<div>\n",
       "<style scoped>\n",
       "    .dataframe tbody tr th:only-of-type {\n",
       "        vertical-align: middle;\n",
       "    }\n",
       "\n",
       "    .dataframe tbody tr th {\n",
       "        vertical-align: top;\n",
       "    }\n",
       "\n",
       "    .dataframe thead th {\n",
       "        text-align: right;\n",
       "    }\n",
       "</style>\n",
       "<table border=\"1\" class=\"dataframe\">\n",
       "  <thead>\n",
       "    <tr style=\"text-align: right;\">\n",
       "      <th></th>\n",
       "      <th>Country</th>\n",
       "      <th>Year</th>\n",
       "      <th>Internet_Users_Pct</th>\n",
       "    </tr>\n",
       "  </thead>\n",
       "  <tbody>\n",
       "    <tr>\n",
       "      <th>1570</th>\n",
       "      <td>Denmark</td>\n",
       "      <td>1990</td>\n",
       "      <td>0.097277</td>\n",
       "    </tr>\n",
       "    <tr>\n",
       "      <th>2892</th>\n",
       "      <td>Japan</td>\n",
       "      <td>1990</td>\n",
       "      <td>0.020294</td>\n",
       "    </tr>\n",
       "    <tr>\n",
       "      <th>306</th>\n",
       "      <td>Australia</td>\n",
       "      <td>1990</td>\n",
       "      <td>0.585095</td>\n",
       "    </tr>\n",
       "    <tr>\n",
       "      <th>2034</th>\n",
       "      <td>France</td>\n",
       "      <td>1990</td>\n",
       "      <td>0.052778</td>\n",
       "    </tr>\n",
       "    <tr>\n",
       "      <th>339</th>\n",
       "      <td>Austria</td>\n",
       "      <td>1990</td>\n",
       "      <td>0.130369</td>\n",
       "    </tr>\n",
       "    <tr>\n",
       "      <th>2829</th>\n",
       "      <td>Italy</td>\n",
       "      <td>1990</td>\n",
       "      <td>0.017545</td>\n",
       "    </tr>\n",
       "    <tr>\n",
       "      <th>543</th>\n",
       "      <td>Belgium</td>\n",
       "      <td>1990</td>\n",
       "      <td>0.001007</td>\n",
       "    </tr>\n",
       "    <tr>\n",
       "      <th>5810</th>\n",
       "      <td>United States</td>\n",
       "      <td>1990</td>\n",
       "      <td>0.784729</td>\n",
       "    </tr>\n",
       "    <tr>\n",
       "      <th>2192</th>\n",
       "      <td>Germany</td>\n",
       "      <td>1990</td>\n",
       "      <td>0.125892</td>\n",
       "    </tr>\n",
       "    <tr>\n",
       "      <th>5777</th>\n",
       "      <td>United Kingdom</td>\n",
       "      <td>1990</td>\n",
       "      <td>0.087355</td>\n",
       "    </tr>\n",
       "  </tbody>\n",
       "</table>\n",
       "</div>"
      ],
      "text/plain": [
       "             Country  Year  Internet_Users_Pct\n",
       "1570         Denmark  1990            0.097277\n",
       "2892           Japan  1990            0.020294\n",
       "306        Australia  1990            0.585095\n",
       "2034          France  1990            0.052778\n",
       "339          Austria  1990            0.130369\n",
       "2829           Italy  1990            0.017545\n",
       "543          Belgium  1990            0.001007\n",
       "5810   United States  1990            0.784729\n",
       "2192         Germany  1990            0.125892\n",
       "5777  United Kingdom  1990            0.087355"
      ]
     },
     "execution_count": 97,
     "metadata": {},
     "output_type": "execute_result"
    }
   ],
   "source": [
    "internet_df_clean_nonzero.head(10)"
   ]
  },
  {
   "cell_type": "markdown",
   "id": "33782613-16f9-4d17-b5d3-19df39216d38",
   "metadata": {},
   "source": [
    "1990 is the first year in the dataframe with nonzero percentage of internet users.  "
   ]
  },
  {
   "cell_type": "markdown",
   "id": "2559f190-2bc5-4dc0-99e7-88a3cb853bd2",
   "metadata": {},
   "source": [
    "18. How does the distribution of internet users percent differ for 2000 and 2014?"
   ]
  },
  {
   "cell_type": "code",
   "execution_count": 102,
   "id": "37d0747f-1416-46fb-b4f1-987301913df0",
   "metadata": {},
   "outputs": [
    {
     "data": {
      "text/html": [
       "<div>\n",
       "<style scoped>\n",
       "    .dataframe tbody tr th:only-of-type {\n",
       "        vertical-align: middle;\n",
       "    }\n",
       "\n",
       "    .dataframe tbody tr th {\n",
       "        vertical-align: top;\n",
       "    }\n",
       "\n",
       "    .dataframe thead th {\n",
       "        text-align: right;\n",
       "    }\n",
       "</style>\n",
       "<table border=\"1\" class=\"dataframe\">\n",
       "  <thead>\n",
       "    <tr style=\"text-align: right;\">\n",
       "      <th></th>\n",
       "      <th>Country</th>\n",
       "      <th>Year</th>\n",
       "      <th>Internet_Users_Pct</th>\n",
       "    </tr>\n",
       "  </thead>\n",
       "  <tbody>\n",
       "    <tr>\n",
       "      <th>5</th>\n",
       "      <td>Afghanistan</td>\n",
       "      <td>2014</td>\n",
       "      <td>7.000000</td>\n",
       "    </tr>\n",
       "    <tr>\n",
       "      <th>28</th>\n",
       "      <td>Albania</td>\n",
       "      <td>2014</td>\n",
       "      <td>54.300000</td>\n",
       "    </tr>\n",
       "    <tr>\n",
       "      <th>42</th>\n",
       "      <td>Albania</td>\n",
       "      <td>2000</td>\n",
       "      <td>0.114097</td>\n",
       "    </tr>\n",
       "    <tr>\n",
       "      <th>57</th>\n",
       "      <td>Algeria</td>\n",
       "      <td>2014</td>\n",
       "      <td>29.500000</td>\n",
       "    </tr>\n",
       "    <tr>\n",
       "      <th>71</th>\n",
       "      <td>Algeria</td>\n",
       "      <td>2000</td>\n",
       "      <td>0.491706</td>\n",
       "    </tr>\n",
       "  </tbody>\n",
       "</table>\n",
       "</div>"
      ],
      "text/plain": [
       "        Country  Year  Internet_Users_Pct\n",
       "5   Afghanistan  2014            7.000000\n",
       "28      Albania  2014           54.300000\n",
       "42      Albania  2000            0.114097\n",
       "57      Algeria  2014           29.500000\n",
       "71      Algeria  2000            0.491706"
      ]
     },
     "execution_count": 102,
     "metadata": {},
     "output_type": "execute_result"
    }
   ],
   "source": [
    "two_yrs=[2000,2014]\n",
    "internet_two_yrs=internet_df_clean[internet_df_clean['Year'].isin(two_yrs)]\n",
    "internet_two_yrs.head()"
   ]
  },
  {
   "cell_type": "code",
   "execution_count": 116,
   "id": "32dcdd13-4e78-45f0-a159-d2358aecfee7",
   "metadata": {},
   "outputs": [
    {
     "name": "stdout",
     "output_type": "stream",
     "text": [
      "45.604924852941174\n"
     ]
    }
   ],
   "source": [
    "avg_2014=internet_two_yrs[internet_two_yrs['Year']==2014]['Internet_Users_Pct'].mean()\n",
    "print(avg_2014)"
   ]
  },
  {
   "cell_type": "code",
   "execution_count": 118,
   "id": "bfea1ddc-cc84-4a6c-971f-a50a602451ed",
   "metadata": {},
   "outputs": [
    {
     "name": "stdout",
     "output_type": "stream",
     "text": [
      "9.332385498619049\n"
     ]
    }
   ],
   "source": [
    "avg_2000=internet_two_yrs[internet_two_yrs['Year']==2000]['Internet_Users_Pct'].mean()\n",
    "print(avg_2000)"
   ]
  },
  {
   "cell_type": "code",
   "execution_count": 104,
   "id": "9e66bee6-1c31-46cf-ba0b-01fc74e4678a",
   "metadata": {},
   "outputs": [
    {
     "data": {
      "text/plain": [
       "<Axes: xlabel='Year', ylabel='Internet_Users_Pct'>"
      ]
     },
     "execution_count": 104,
     "metadata": {},
     "output_type": "execute_result"
    },
    {
     "data": {
      "image/png": "[encoded data removed]",
      "text/plain": [
       "<Figure size 640x480 with 1 Axes>"
      ]
     },
     "metadata": {},
     "output_type": "display_data"
    }
   ],
   "source": [
    "sns.boxplot(x=internet_two_yrs['Year'],y=internet_two_yrs['Internet_Users_Pct'])"
   ]
  },
  {
   "cell_type": "markdown",
   "id": "3770dbf2-49f3-470c-a10a-46cc09cb31ca",
   "metadata": {},
   "source": [
    "The percentage of internet users grew significantly between 2000 and 2014 as shown on the boxplot.  Comparing the average percentage in the two years shows that it increased from 9.3% in 2000 to 45.6% in 2014.\n"
   ]
  },
  {
   "cell_type": "markdown",
   "id": "157c1f6d-9d81-49fe-b34c-74039cc93f88",
   "metadata": {},
   "source": [
    "\n",
    "19. For how many countries was the percentage of internet users below 5% in 2014?"
   ]
  },
  {
   "cell_type": "code",
   "execution_count": 139,
   "id": "ee3280ec-e4c4-4728-a32f-ddea22f4dfed",
   "metadata": {},
   "outputs": [
    {
     "name": "stdout",
     "output_type": "stream",
     "text": [
      "10\n"
     ]
    }
   ],
   "source": [
    "count_below_5pct_2014=len(internet_two_yrs[(internet_two_yrs['Year']==2014) &(internet_two_yrs['Internet_Users_Pct']<5.0)]['Country'])\n",
    "print(count_below_5pct_2014)"
   ]
  },
  {
   "cell_type": "markdown",
   "id": "8783bea0-1da2-428c-bf37-97ba1ade8a43",
   "metadata": {},
   "source": [
    "There are 10 countries with % of internet users below 5% in 2014."
   ]
  },
  {
   "cell_type": "markdown",
   "id": "deb6857e-df8a-43de-a1c4-466ef725a08a",
   "metadata": {},
   "source": [
    "20. Merge the two DataFrames to one. Do this in a way that keeps **all rows** from each of the two DataFrames. Call the new DataFrame `gdp_and_internet_use`. Look at the first and last few rows to confirm that it merged correctly.\n"
   ]
  },
  {
   "cell_type": "code",
   "execution_count": 152,
   "id": "550295d8-3106-4f6c-8309-f2b62ee1e377",
   "metadata": {},
   "outputs": [],
   "source": [
    "gdp_and_internet_use=pd.merge(gdp_df_clean,internet_df_clean,how='outer')"
   ]
  },
  {
   "cell_type": "code",
   "execution_count": 156,
   "id": "f648d851-624f-46d2-82e1-3d1b34795913",
   "metadata": {
    "scrolled": true
   },
   "outputs": [
    {
     "name": "stdout",
     "output_type": "stream",
     "text": [
      "<class 'pandas.core.frame.DataFrame'>\n",
      "RangeIndex: 9499 entries, 0 to 9498\n",
      "Data columns (total 4 columns):\n",
      " #   Column              Non-Null Count  Dtype  \n",
      "---  ------              --------------  -----  \n",
      " 0   Country             9499 non-null   object \n",
      " 1   Year                9499 non-null   int64  \n",
      " 2   GDP_Per_Capita      8219 non-null   float64\n",
      " 3   Internet_Users_Pct  6083 non-null   float64\n",
      "dtypes: float64(2), int64(1), object(1)\n",
      "memory usage: 297.0+ KB\n"
     ]
    }
   ],
   "source": [
    "gdp_and_internet_use.info()"
   ]
  },
  {
   "cell_type": "code",
   "execution_count": 158,
   "id": "8d05d17d-c971-43bb-9cf9-420faa15dd92",
   "metadata": {},
   "outputs": [
    {
     "data": {
      "text/html": [
       "<div>\n",
       "<style scoped>\n",
       "    .dataframe tbody tr th:only-of-type {\n",
       "        vertical-align: middle;\n",
       "    }\n",
       "\n",
       "    .dataframe tbody tr th {\n",
       "        vertical-align: top;\n",
       "    }\n",
       "\n",
       "    .dataframe thead th {\n",
       "        text-align: right;\n",
       "    }\n",
       "</style>\n",
       "<table border=\"1\" class=\"dataframe\">\n",
       "  <thead>\n",
       "    <tr style=\"text-align: right;\">\n",
       "      <th></th>\n",
       "      <th>Country</th>\n",
       "      <th>Year</th>\n",
       "      <th>GDP_Per_Capita</th>\n",
       "      <th>Internet_Users_Pct</th>\n",
       "    </tr>\n",
       "  </thead>\n",
       "  <tbody>\n",
       "    <tr>\n",
       "      <th>0</th>\n",
       "      <td>Afghanistan</td>\n",
       "      <td>1990</td>\n",
       "      <td>NaN</td>\n",
       "      <td>0.000000</td>\n",
       "    </tr>\n",
       "    <tr>\n",
       "      <th>1</th>\n",
       "      <td>Afghanistan</td>\n",
       "      <td>2000</td>\n",
       "      <td>1617.826475</td>\n",
       "      <td>NaN</td>\n",
       "    </tr>\n",
       "    <tr>\n",
       "      <th>2</th>\n",
       "      <td>Afghanistan</td>\n",
       "      <td>2001</td>\n",
       "      <td>1454.110782</td>\n",
       "      <td>0.004723</td>\n",
       "    </tr>\n",
       "    <tr>\n",
       "      <th>3</th>\n",
       "      <td>Afghanistan</td>\n",
       "      <td>2002</td>\n",
       "      <td>1774.308743</td>\n",
       "      <td>0.004561</td>\n",
       "    </tr>\n",
       "    <tr>\n",
       "      <th>4</th>\n",
       "      <td>Afghanistan</td>\n",
       "      <td>2003</td>\n",
       "      <td>1815.928200</td>\n",
       "      <td>0.087891</td>\n",
       "    </tr>\n",
       "  </tbody>\n",
       "</table>\n",
       "</div>"
      ],
      "text/plain": [
       "       Country  Year  GDP_Per_Capita  Internet_Users_Pct\n",
       "0  Afghanistan  1990             NaN            0.000000\n",
       "1  Afghanistan  2000     1617.826475                 NaN\n",
       "2  Afghanistan  2001     1454.110782            0.004723\n",
       "3  Afghanistan  2002     1774.308743            0.004561\n",
       "4  Afghanistan  2003     1815.928200            0.087891"
      ]
     },
     "execution_count": 158,
     "metadata": {},
     "output_type": "execute_result"
    }
   ],
   "source": [
    "gdp_and_internet_use.head()"
   ]
  },
  {
   "cell_type": "code",
   "execution_count": 146,
   "id": "1dbba933-4104-40db-9651-9f84b2ccb53d",
   "metadata": {},
   "outputs": [
    {
     "data": {
      "text/html": [
       "<div>\n",
       "<style scoped>\n",
       "    .dataframe tbody tr th:only-of-type {\n",
       "        vertical-align: middle;\n",
       "    }\n",
       "\n",
       "    .dataframe tbody tr th {\n",
       "        vertical-align: top;\n",
       "    }\n",
       "\n",
       "    .dataframe thead th {\n",
       "        text-align: right;\n",
       "    }\n",
       "</style>\n",
       "<table border=\"1\" class=\"dataframe\">\n",
       "  <thead>\n",
       "    <tr style=\"text-align: right;\">\n",
       "      <th></th>\n",
       "      <th>Country</th>\n",
       "      <th>Year</th>\n",
       "      <th>GDP_Per_Capita</th>\n",
       "      <th>Internet_Users_Pct</th>\n",
       "    </tr>\n",
       "  </thead>\n",
       "  <tbody>\n",
       "    <tr>\n",
       "      <th>9494</th>\n",
       "      <td>Zimbabwe</td>\n",
       "      <td>2019</td>\n",
       "      <td>3294.806084</td>\n",
       "      <td>26.5883</td>\n",
       "    </tr>\n",
       "    <tr>\n",
       "      <th>9495</th>\n",
       "      <td>Zimbabwe</td>\n",
       "      <td>2020</td>\n",
       "      <td>2987.269823</td>\n",
       "      <td>29.2986</td>\n",
       "    </tr>\n",
       "    <tr>\n",
       "      <th>9496</th>\n",
       "      <td>Zimbabwe</td>\n",
       "      <td>2021</td>\n",
       "      <td>3184.785451</td>\n",
       "      <td>32.4616</td>\n",
       "    </tr>\n",
       "    <tr>\n",
       "      <th>9497</th>\n",
       "      <td>Zimbabwe</td>\n",
       "      <td>2022</td>\n",
       "      <td>3323.121932</td>\n",
       "      <td>32.5615</td>\n",
       "    </tr>\n",
       "    <tr>\n",
       "      <th>9498</th>\n",
       "      <td>Zimbabwe</td>\n",
       "      <td>2023</td>\n",
       "      <td>3442.251327</td>\n",
       "      <td>NaN</td>\n",
       "    </tr>\n",
       "  </tbody>\n",
       "</table>\n",
       "</div>"
      ],
      "text/plain": [
       "       Country  Year  GDP_Per_Capita  Internet_Users_Pct\n",
       "9494  Zimbabwe  2019     3294.806084             26.5883\n",
       "9495  Zimbabwe  2020     2987.269823             29.2986\n",
       "9496  Zimbabwe  2021     3184.785451             32.4616\n",
       "9497  Zimbabwe  2022     3323.121932             32.5615\n",
       "9498  Zimbabwe  2023     3442.251327                 NaN"
      ]
     },
     "execution_count": 146,
     "metadata": {},
     "output_type": "execute_result"
    }
   ],
   "source": [
    "gdp_and_internet_use.tail()"
   ]
  },
  {
   "cell_type": "code",
   "execution_count": null,
   "id": "444a4e93-4027-437a-a696-3782ab728f54",
   "metadata": {},
   "outputs": [],
   "source": []
  }
 ],
 "metadata": {
  "kernelspec": {
   "display_name": "Python [conda env:base] *",
   "language": "python",
   "name": "conda-base-py"
  },
  "language_info": {
   "codemirror_mode": {
    "name": "ipython",
    "version": 3
   },
   "file_extension": ".py",
   "mimetype": "text/x-python",
   "name": "python",
   "nbconvert_exporter": "python",
   "pygments_lexer": "ipython3",
   "version": "3.12.7"
  }
 },
 "nbformat": 4,
 "nbformat_minor": 5
}
